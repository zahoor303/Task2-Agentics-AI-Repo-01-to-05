{
  "cells": [
    {
      "cell_type": "code",
      "execution_count": null,
      "metadata": {
        "vscode": {
          "languageId": "plaintext"
        }
      },
      "outputs": [],
      "source": [
        "from agents import Agent, Runner, function_tool\n",
        "from agents.extensions.models.litellm_model import LitellmModel\n",
        "\n",
        "MODEL = 'gemini/gemini-2.0-flash'\n",
        "\n",
        "@function_tool\n",
        "def get_weather(city: str) -> str:\n",
        "    print(f\"[debug] getting weather for {city}\")\n",
        "    return f\"The weather in {city} is sunny.\"\n",
        "\n",
        "agent = Agent(\n",
        "    name=\"Assistant\",\n",
        "    instructions=\"You only respond in haikus.\",\n",
        "    model=LitellmModel(model=MODEL, api_key=GEMINI_API_KEY),\n",
        ")\n",
        "\n",
        "result = Runner.run_sync(agent, \"What's the weather in Tokyo?\")\n",
        "print(result.final_output)"
      ]
    }
  ],
  "metadata": {
    "colab": {
      "provenance": []
    },
    "kernelspec": {
      "display_name": "Python 3",
      "name": "python3"
    },
    "language_info": {
      "name": "python"
    }
  },
  "nbformat": 4,
  "nbformat_minor": 0
}
